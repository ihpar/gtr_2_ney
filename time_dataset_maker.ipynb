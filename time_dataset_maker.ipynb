{
 "cells": [
  {
   "cell_type": "code",
   "execution_count": 15,
   "id": "3746af05",
   "metadata": {},
   "outputs": [],
   "source": [
    "import torch\n",
    "import pickle\n",
    "import librosa\n",
    "import numpy as np\n",
    "import soundfile as sf\n",
    "from pathlib import Path\n",
    "import IPython.display as ipd\n",
    "\n",
    "from constants import *\n",
    "from inferer import Inferer\n",
    "from plotter import plot_waves\n",
    "from disk_utils import load_model"
   ]
  },
  {
   "cell_type": "code",
   "execution_count": 17,
   "id": "174c9d6f",
   "metadata": {},
   "outputs": [],
   "source": [
    "with open(\"dataset/features/min_max.pkl\", \"rb\") as handle:\n",
    "    min_max = pickle.load(handle)\n",
    "\n",
    "inst = \"ney\"\n",
    "feature = \"db\"\n",
    "mini = min_max[inst][\"min\"][feature]\n",
    "maxi = min_max[inst][\"max\"][feature]"
   ]
  },
  {
   "cell_type": "code",
   "execution_count": 18,
   "id": "9d333fa2",
   "metadata": {},
   "outputs": [],
   "source": [
    "device = torch.device(\"cuda\" if torch.cuda.is_available() else \"cpu\")\n",
    "model_magnitude = load_model(\"generator_sp_32_0_8_full\").to(device)\n",
    "\n",
    "src_dirs = {\n",
    "    \"gtr\": [\"dataset/gtr_1\", \"dataset/gtr_2\"],\n",
    "    \"ney\": [\"dataset/ney_1\", \"dataset/ney_2\"],\n",
    "}\n",
    "\n",
    "gtr_files = sorted([f for f in Path(src_dirs[\"gtr\"][0]).glob(\"*.wav\")])\n",
    "ney_files = sorted([f for f in Path(src_dirs[\"ney\"][0]).glob(\"*.wav\")])\n",
    "\n",
    "len_window = WINDOW_SAMPLE_LEN\n",
    "len_overlap = OVERLAP\n",
    "start_offset = len_window - len_overlap\n",
    "\n",
    "for gtr_file in gtr_files:\n",
    "    signal, _ = librosa.load(gtr_file, mono=True, sr=SR)\n",
    "    i = 0\n",
    "    dbs = []\n",
    "    phases = []\n",
    "    while True:\n",
    "        start = i * start_offset\n",
    "        end = start + len_window\n",
    "        window = signal[start:end]\n",
    "        # pad with trailing 0's if window is smaller than required length\n",
    "        if len(window) < len_window:\n",
    "            window = np.pad(window, (0, len_window - len(window)))\n",
    "\n",
    "        # stft -> phase, magnitude & db\n",
    "        stft = librosa.stft(window, n_fft=N_FFT, hop_length=HOP)\n",
    "        magnitude = np.abs(stft)\n",
    "        phase = np.angle(stft)\n",
    "        phases.append(phase)\n",
    "        db = librosa.amplitude_to_db(magnitude)\n",
    "        # normalization\n",
    "        db = (db - mini) / (maxi - mini)\n",
    "        db = np.expand_dims(db, axis=0)\n",
    "        dbs.append(db)\n",
    "\n",
    "        if end >= len(signal):\n",
    "            break\n",
    "        i += 1\n",
    "\n",
    "    # dbs = torch.from_numpy(np.array(dbs, dtype=np.float32))\n",
    "    break"
   ]
  },
  {
   "cell_type": "code",
   "execution_count": null,
   "id": "ae7e79b2",
   "metadata": {},
   "outputs": [],
   "source": []
  }
 ],
 "metadata": {
  "kernelspec": {
   "display_name": "mlenv",
   "language": "python",
   "name": "python3"
  },
  "language_info": {
   "codemirror_mode": {
    "name": "ipython",
    "version": 3
   },
   "file_extension": ".py",
   "mimetype": "text/x-python",
   "name": "python",
   "nbconvert_exporter": "python",
   "pygments_lexer": "ipython3",
   "version": "3.12.2"
  }
 },
 "nbformat": 4,
 "nbformat_minor": 5
}
